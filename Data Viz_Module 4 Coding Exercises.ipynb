{
 "cells": [
  {
   "cell_type": "markdown",
   "id": "77727fe6",
   "metadata": {},
   "source": [
    "### Coding Exercises"
   ]
  },
  {
   "cell_type": "code",
   "execution_count": 11,
   "id": "7c9622b8",
   "metadata": {},
   "outputs": [],
   "source": [
    "import pandas as pd\n",
    "import matplotlib.pyplot as plt\n",
    "import seaborn as sns"
   ]
  },
  {
   "cell_type": "code",
   "execution_count": 2,
   "id": "0012314b",
   "metadata": {},
   "outputs": [],
   "source": [
    "supermarket = pd.read_csv(\"supermarket_sales.csv\")"
   ]
  },
  {
   "cell_type": "code",
   "execution_count": 3,
   "id": "d1c0aabe",
   "metadata": {},
   "outputs": [
    {
     "data": {
      "text/html": [
       "<div>\n",
       "<style scoped>\n",
       "    .dataframe tbody tr th:only-of-type {\n",
       "        vertical-align: middle;\n",
       "    }\n",
       "\n",
       "    .dataframe tbody tr th {\n",
       "        vertical-align: top;\n",
       "    }\n",
       "\n",
       "    .dataframe thead th {\n",
       "        text-align: right;\n",
       "    }\n",
       "</style>\n",
       "<table border=\"1\" class=\"dataframe\">\n",
       "  <thead>\n",
       "    <tr style=\"text-align: right;\">\n",
       "      <th></th>\n",
       "      <th>Invoice ID</th>\n",
       "      <th>Branch</th>\n",
       "      <th>City</th>\n",
       "      <th>Customer type</th>\n",
       "      <th>Gender</th>\n",
       "      <th>Product line</th>\n",
       "      <th>Unit price</th>\n",
       "      <th>Quantity</th>\n",
       "      <th>Tax 5%</th>\n",
       "      <th>Total</th>\n",
       "      <th>Date</th>\n",
       "      <th>Time</th>\n",
       "      <th>Payment</th>\n",
       "    </tr>\n",
       "  </thead>\n",
       "  <tbody>\n",
       "    <tr>\n",
       "      <th>0</th>\n",
       "      <td>750-67-8428</td>\n",
       "      <td>A</td>\n",
       "      <td>Yangon</td>\n",
       "      <td>Member</td>\n",
       "      <td>Female</td>\n",
       "      <td>Health and beauty</td>\n",
       "      <td>74.69</td>\n",
       "      <td>7.0</td>\n",
       "      <td>26.1415</td>\n",
       "      <td>548.9715</td>\n",
       "      <td>01/05/2019</td>\n",
       "      <td>13:08</td>\n",
       "      <td>Ewallet</td>\n",
       "    </tr>\n",
       "    <tr>\n",
       "      <th>1</th>\n",
       "      <td>226-31-3081</td>\n",
       "      <td>C</td>\n",
       "      <td>Naypyitaw</td>\n",
       "      <td>Normal</td>\n",
       "      <td>Female</td>\n",
       "      <td>Electronic accessories</td>\n",
       "      <td>15.28</td>\n",
       "      <td>5.0</td>\n",
       "      <td>3.8200</td>\n",
       "      <td>80.2200</td>\n",
       "      <td>03/08/2019</td>\n",
       "      <td>10:29</td>\n",
       "      <td>Cash</td>\n",
       "    </tr>\n",
       "    <tr>\n",
       "      <th>2</th>\n",
       "      <td>631-41-3108</td>\n",
       "      <td>A</td>\n",
       "      <td>Yangon</td>\n",
       "      <td>Normal</td>\n",
       "      <td>Male</td>\n",
       "      <td>Home and lifestyle</td>\n",
       "      <td>46.33</td>\n",
       "      <td>7.0</td>\n",
       "      <td>16.2155</td>\n",
       "      <td>340.5255</td>\n",
       "      <td>03/03/2019</td>\n",
       "      <td>13:23</td>\n",
       "      <td>Credit card</td>\n",
       "    </tr>\n",
       "    <tr>\n",
       "      <th>3</th>\n",
       "      <td>123-19-1176</td>\n",
       "      <td>A</td>\n",
       "      <td>Yangon</td>\n",
       "      <td>Member</td>\n",
       "      <td>Male</td>\n",
       "      <td>Health and beauty</td>\n",
       "      <td>58.22</td>\n",
       "      <td>8.0</td>\n",
       "      <td>23.2880</td>\n",
       "      <td>489.0480</td>\n",
       "      <td>01/27/2019</td>\n",
       "      <td>20:33</td>\n",
       "      <td>Ewallet</td>\n",
       "    </tr>\n",
       "    <tr>\n",
       "      <th>4</th>\n",
       "      <td>373-73-7910</td>\n",
       "      <td>A</td>\n",
       "      <td>Yangon</td>\n",
       "      <td>Normal</td>\n",
       "      <td>Male</td>\n",
       "      <td>Sports and travel</td>\n",
       "      <td>86.31</td>\n",
       "      <td>7.0</td>\n",
       "      <td>30.2085</td>\n",
       "      <td>634.3785</td>\n",
       "      <td>02/08/2019</td>\n",
       "      <td>10:37</td>\n",
       "      <td>Ewallet</td>\n",
       "    </tr>\n",
       "  </tbody>\n",
       "</table>\n",
       "</div>"
      ],
      "text/plain": [
       "    Invoice ID Branch       City Customer type  Gender  \\\n",
       "0  750-67-8428      A     Yangon        Member  Female   \n",
       "1  226-31-3081      C  Naypyitaw        Normal  Female   \n",
       "2  631-41-3108      A     Yangon        Normal    Male   \n",
       "3  123-19-1176      A     Yangon        Member    Male   \n",
       "4  373-73-7910      A     Yangon        Normal    Male   \n",
       "\n",
       "             Product line  Unit price  Quantity   Tax 5%     Total  \\\n",
       "0       Health and beauty       74.69       7.0  26.1415  548.9715   \n",
       "1  Electronic accessories       15.28       5.0   3.8200   80.2200   \n",
       "2      Home and lifestyle       46.33       7.0  16.2155  340.5255   \n",
       "3       Health and beauty       58.22       8.0  23.2880  489.0480   \n",
       "4       Sports and travel       86.31       7.0  30.2085  634.3785   \n",
       "\n",
       "         Date   Time      Payment  \n",
       "0  01/05/2019  13:08      Ewallet  \n",
       "1  03/08/2019  10:29         Cash  \n",
       "2  03/03/2019  13:23  Credit card  \n",
       "3  01/27/2019  20:33      Ewallet  \n",
       "4  02/08/2019  10:37      Ewallet  "
      ]
     },
     "execution_count": 3,
     "metadata": {},
     "output_type": "execute_result"
    }
   ],
   "source": [
    "supermarket.head()"
   ]
  },
  {
   "cell_type": "markdown",
   "id": "4c45fd3e",
   "metadata": {},
   "source": [
    "#### Create bar graph to display total sales by payment method and another bar graph for the total sales by gender."
   ]
  },
  {
   "cell_type": "code",
   "execution_count": 4,
   "id": "d9c54776",
   "metadata": {},
   "outputs": [
    {
     "data": {
      "text/html": [
       "<div>\n",
       "<style scoped>\n",
       "    .dataframe tbody tr th:only-of-type {\n",
       "        vertical-align: middle;\n",
       "    }\n",
       "\n",
       "    .dataframe tbody tr th {\n",
       "        vertical-align: top;\n",
       "    }\n",
       "\n",
       "    .dataframe thead th {\n",
       "        text-align: right;\n",
       "    }\n",
       "</style>\n",
       "<table border=\"1\" class=\"dataframe\">\n",
       "  <thead>\n",
       "    <tr style=\"text-align: right;\">\n",
       "      <th></th>\n",
       "      <th>Unit price</th>\n",
       "      <th>Quantity</th>\n",
       "      <th>Tax 5%</th>\n",
       "      <th>Total</th>\n",
       "    </tr>\n",
       "    <tr>\n",
       "      <th>Payment</th>\n",
       "      <th></th>\n",
       "      <th></th>\n",
       "      <th></th>\n",
       "      <th></th>\n",
       "    </tr>\n",
       "  </thead>\n",
       "  <tbody>\n",
       "    <tr>\n",
       "      <th>Cash</th>\n",
       "      <td>19525.09</td>\n",
       "      <td>1896.0</td>\n",
       "      <td>5343.170</td>\n",
       "      <td>112206.570</td>\n",
       "    </tr>\n",
       "    <tr>\n",
       "      <th>Credit card</th>\n",
       "      <td>16916.68</td>\n",
       "      <td>1722.0</td>\n",
       "      <td>4798.432</td>\n",
       "      <td>100767.072</td>\n",
       "    </tr>\n",
       "    <tr>\n",
       "      <th>Ewallet</th>\n",
       "      <td>19230.36</td>\n",
       "      <td>1892.0</td>\n",
       "      <td>5237.767</td>\n",
       "      <td>109993.107</td>\n",
       "    </tr>\n",
       "  </tbody>\n",
       "</table>\n",
       "</div>"
      ],
      "text/plain": [
       "             Unit price  Quantity    Tax 5%       Total\n",
       "Payment                                                \n",
       "Cash           19525.09    1896.0  5343.170  112206.570\n",
       "Credit card    16916.68    1722.0  4798.432  100767.072\n",
       "Ewallet        19230.36    1892.0  5237.767  109993.107"
      ]
     },
     "execution_count": 4,
     "metadata": {},
     "output_type": "execute_result"
    }
   ],
   "source": [
    "payment = supermarket.groupby(\"Payment\")\n",
    "payment.sum()"
   ]
  },
  {
   "cell_type": "code",
   "execution_count": 5,
   "id": "c92a90da",
   "metadata": {},
   "outputs": [
    {
     "data": {
      "text/html": [
       "<div>\n",
       "<style scoped>\n",
       "    .dataframe tbody tr th:only-of-type {\n",
       "        vertical-align: middle;\n",
       "    }\n",
       "\n",
       "    .dataframe tbody tr th {\n",
       "        vertical-align: top;\n",
       "    }\n",
       "\n",
       "    .dataframe thead th {\n",
       "        text-align: right;\n",
       "    }\n",
       "</style>\n",
       "<table border=\"1\" class=\"dataframe\">\n",
       "  <thead>\n",
       "    <tr style=\"text-align: right;\">\n",
       "      <th></th>\n",
       "      <th>Unit price</th>\n",
       "      <th>Quantity</th>\n",
       "      <th>Tax 5%</th>\n",
       "      <th>Total</th>\n",
       "    </tr>\n",
       "    <tr>\n",
       "      <th>Gender</th>\n",
       "      <th></th>\n",
       "      <th></th>\n",
       "      <th></th>\n",
       "      <th></th>\n",
       "    </tr>\n",
       "  </thead>\n",
       "  <tbody>\n",
       "    <tr>\n",
       "      <th>Female</th>\n",
       "      <td>27687.24</td>\n",
       "      <td>2869.0</td>\n",
       "      <td>7994.425</td>\n",
       "      <td>167882.925</td>\n",
       "    </tr>\n",
       "    <tr>\n",
       "      <th>Male</th>\n",
       "      <td>27984.89</td>\n",
       "      <td>2641.0</td>\n",
       "      <td>7384.944</td>\n",
       "      <td>155083.824</td>\n",
       "    </tr>\n",
       "  </tbody>\n",
       "</table>\n",
       "</div>"
      ],
      "text/plain": [
       "        Unit price  Quantity    Tax 5%       Total\n",
       "Gender                                            \n",
       "Female    27687.24    2869.0  7994.425  167882.925\n",
       "Male      27984.89    2641.0  7384.944  155083.824"
      ]
     },
     "execution_count": 5,
     "metadata": {},
     "output_type": "execute_result"
    }
   ],
   "source": [
    "gender = supermarket.groupby(\"Gender\")\n",
    "gender.sum()"
   ]
  },
  {
   "cell_type": "code",
   "execution_count": 10,
   "id": "ce34439f",
   "metadata": {},
   "outputs": [
    {
     "data": {
      "image/png": "[encoded data removed]",
      "text/plain": [
       "<Figure size 864x576 with 2 Axes>"
      ]
     },
     "metadata": {
      "needs_background": "light"
     },
     "output_type": "display_data"
    }
   ],
   "source": [
    "fig = plt.figure(figsize = (12, 8))\n",
    "\n",
    "#plot 1 \n",
    "plt.subplot(1, 2, 1)\n",
    "pcategories = [\"Cash\", \"Credit Card\", \"Ewallet\"]\n",
    "plt.bar(pcategories, supermarket.groupby([\"Payment\"]).sum()[\"Total\"], color = \"grey\")\n",
    "\n",
    "plt.title(\"Sales by Payment\")\n",
    "plt.ylabel(\"Sales in Kyat (K)\")\n",
    "plt.ylim(0, 200000)\n",
    "\n",
    "#plot 2\n",
    "plt.subplot(1, 2, 2)\n",
    "gcategories = [\"Female\", \"Male\"]\n",
    "plt.bar(gcategories, supermarket.groupby([\"Gender\"]).sum()[\"Total\"], color = \"grey\")\n",
    "\n",
    "plt.title(\"Sales by Gender\")\n",
    "plt.ylim(0, 200000)\n",
    "\n",
    "plt.show()"
   ]
  },
  {
   "cell_type": "code",
   "execution_count": 14,
   "id": "bb9dd249",
   "metadata": {},
   "outputs": [
    {
     "data": {
      "image/png": "[encoded data removed]",
      "text/plain": [
       "<Figure size 864x576 with 1 Axes>"
      ]
     },
     "metadata": {
      "needs_background": "light"
     },
     "output_type": "display_data"
    }
   ],
   "source": [
    "fig = plt.figure(figsize = (12, 8))\n",
    "\n",
    "product_line = supermarket.groupby(\"Product line\")\n",
    "quantity = product_line.sum()[\"Quantity\"]\n",
    "\n",
    "sort_sum = quantity.sort_values(ascending = True)\n",
    "sort_sum = pd.DataFrame(sort_sum)\n",
    "sort_sum = sort_sum.reset_index() \n",
    "\n",
    "product = sort_sum[\"Product line\"]\n",
    "quantity = sort_sum[\"Quantity\"]\n",
    "\n",
    "g = sns.barplot(x = product, y = quantity, palette = \"pastel\")\n",
    "\n",
    "for i in [\"top\", \"left\", \"right\"]:\n",
    "    g.spines[i].set_visible(False)\n",
    "    \n",
    "for i in g.patches:\n",
    "    g.text(i.get_x() + i.get_width() / 3.5, i.get_height() + 5, round(i.get_height()), fontsize = \"14\")\n",
    "\n",
    "plt.xlabel(\"\")\n",
    "plt.ylabel(\"\")\n",
    "plt.show()    "
   ]
  }
 ],
 "metadata": {
  "kernelspec": {
   "display_name": "Python 3 (ipykernel)",
   "language": "python",
   "name": "python3"
  },
  "language_info": {
   "codemirror_mode": {
    "name": "ipython",
    "version": 3
   },
   "file_extension": ".py",
   "mimetype": "text/x-python",
   "name": "python",
   "nbconvert_exporter": "python",
   "pygments_lexer": "ipython3",
   "version": "3.10.4"
  }
 },
 "nbformat": 4,
 "nbformat_minor": 5
}
